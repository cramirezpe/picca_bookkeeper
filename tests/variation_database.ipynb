{
 "cells": [
  {
   "cell_type": "markdown",
   "id": "e6013cc5-f534-41a0-b38b-884b0c183c6f",
   "metadata": {
    "tags": []
   },
   "source": [
    "# Variation Database"
   ]
  },
  {
   "cell_type": "markdown",
   "id": "9d439394-17f9-446f-9c24-69223be62274",
   "metadata": {},
   "source": [
    "## Imports"
   ]
  },
  {
   "cell_type": "code",
   "execution_count": 55,
   "id": "1d274120-a61f-48d0-9752-7ce4a22bdd30",
   "metadata": {
    "tags": []
   },
   "outputs": [],
   "source": [
    "import vega as vg\n",
    "import picca\n",
    "import picca_bookkeeper\n",
    "\n",
    "import pandas as pd\n",
    "import numpy as np\n",
    "import matplotlib.pyplot as plt\n",
    "\n",
    "import os\n",
    "import yaml\n"
   ]
  },
  {
   "cell_type": "markdown",
   "id": "5c06b5a1-54fc-4c81-bb84-82fb061004a9",
   "metadata": {},
   "source": [
    "## Search file structure for variations and config files"
   ]
  },
  {
   "cell_type": "code",
   "execution_count": 56,
   "id": "ed94e5a9-97af-41ba-bd42-9fdc3baf8b12",
   "metadata": {
    "tags": []
   },
   "outputs": [
    {
     "name": "stdout",
     "output_type": "stream",
     "text": [
      "Found: /pscratch/sd/m/mherbold/tests/bookkeeper/broadband_polynomials/configs/bookkeeper_config.yaml\n",
      "Found: /pscratch/sd/m/mherbold/tests/bookkeeper/version_test/configs/bookkeeper_config.yaml\n",
      "Found: /pscratch/sd/m/mherbold/tests/bookkeeper/baseline/configs/bookkeeper_config.yaml\n",
      "Found: /pscratch/sd/m/mherbold/tests/bookkeeper/no_arinyo/configs/bookkeeper_config.yaml\n",
      "Found: /pscratch/sd/m/mherbold/tests/bookkeeper/lr_max_1200/configs/bookkeeper_config.yaml\n",
      "Found: /pscratch/sd/m/mherbold/tests/bookkeeper/baseline_test/configs/bookkeeper_config.yaml\n"
     ]
    }
   ],
   "source": [
    "def find_config_files(root_dir):\n",
    "    config_files = []\n",
    "    \n",
    "    # Walk through the directory structure\n",
    "    for root, dirs, files in os.walk(root_dir):\n",
    "        # Check if we are in a \"configs\" folder\n",
    "        if os.path.basename(root) == \"configs\":\n",
    "            # Search for files ending in \"config.yaml\"\n",
    "            for file in files:\n",
    "                if file.endswith(\"config.yaml\"):\n",
    "                    config_files.append(os.path.join(root, file))\n",
    "    \n",
    "    return config_files\n",
    "\n",
    "# Example usage\n",
    "root_directory = '/pscratch/sd/m/mherbold/tests/'  # Replace with the path to your directory\n",
    "config_files = find_config_files(root_directory)\n",
    "\n",
    "# Print or process the files\n",
    "for config_file in config_files:\n",
    "    print(f\"Found: {config_file}\")\n"
   ]
  },
  {
   "cell_type": "markdown",
   "id": "599759cf-22ec-4d10-8d4f-bc2645f21f04",
   "metadata": {},
   "source": [
    "## Create a table of info from .yaml files"
   ]
  },
  {
   "cell_type": "markdown",
   "id": "6c6137dc-8d4f-406f-bf54-92919b7ec99c",
   "metadata": {},
   "source": [
    "Search for config file information, such as catalog location, software versions, parameter values, etc."
   ]
  },
  {
   "cell_type": "code",
   "execution_count": 57,
   "id": "84ec49ef-4932-4fe2-995d-f52c9aad70bf",
   "metadata": {
    "tags": []
   },
   "outputs": [
    {
     "name": "stdout",
     "output_type": "stream",
     "text": [
      "          Variation Name                                  data.healpix data  \\\n",
      "0  broadband_polynomials  /dvs_ro/cfs/cdirs/desi/spectro/redux/jura/healpix   \n",
      "1           version_test  /dvs_ro/cfs/cdirs/desi/spectro/redux/jura/healpix   \n",
      "2               baseline  /dvs_ro/cfs/cdirs/desi/spectro/redux/jura/healpix   \n",
      "3              no_arinyo  /dvs_ro/cfs/cdirs/desi/spectro/redux/jura/healpix   \n",
      "4            lr_max_1200  /dvs_ro/cfs/cdirs/desi/spectro/redux/jura/healpix   \n",
      "5          baseline_test  /dvs_ro/cfs/cdirs/desi/spectro/redux/jura/healpix   \n",
      "\n",
      "                                        data.catalog  \\\n",
      "0  /global/cfs/cdirs/desicollab/science/lya/y3/ju...   \n",
      "1  /global/cfs/cdirs/desicollab/science/lya/y3/ju...   \n",
      "2  /global/cfs/cdirs/desicollab/science/lya/y3/ju...   \n",
      "3  /global/cfs/cdirs/desicollab/science/lya/y3/ju...   \n",
      "4  /global/cfs/cdirs/desicollab/science/lya/y3/ju...   \n",
      "5  /global/cfs/cdirs/desicollab/science/lya/y3/ju...   \n",
      "\n",
      "                                delta extraction.dla  \\\n",
      "0                                               None   \n",
      "1  /global/cfs/cdirs/desicollab/science/lya/y3/ju...   \n",
      "2  /global/cfs/cdirs/desicollab/science/lya/y3/ju...   \n",
      "3                                               None   \n",
      "4  /global/cfs/cdirs/desicollab/science/lya/y3/ju...   \n",
      "5  /global/cfs/cdirs/desicollab/science/lya/y3/ju...   \n",
      "\n",
      "                                delta extraction.bal  \\\n",
      "0                                               None   \n",
      "1  /global/cfs/cdirs/desicollab/science/lya/y3/ju...   \n",
      "2  /global/cfs/cdirs/desicollab/science/lya/y3/ju...   \n",
      "3                                               None   \n",
      "4  /global/cfs/cdirs/desicollab/science/lya/y3/ju...   \n",
      "5  /global/cfs/cdirs/desicollab/science/lya/y3/ju...   \n",
      "\n",
      "                          delta extraction.mask file  picca picca_bookkeeper  \\\n",
      "0                                               None  9.2.0            5.0.0   \n",
      "1  /global/cfs/cdirs/desicollab/science/lya/y3/ju...  9.5.0            5.0.0   \n",
      "2  /global/cfs/cdirs/desicollab/science/lya/y3/ju...  9.5.0            5.0.0   \n",
      "3                                               None    N/A              N/A   \n",
      "4  /global/cfs/cdirs/desi/science/lya/early-3d/co...    N/A              N/A   \n",
      "5  /global/cfs/cdirs/desicollab/science/lya/y3/ju...  9.5.0            5.0.0   \n",
      "\n",
      "    vega  \n",
      "0  1.2.0  \n",
      "1  1.2.0  \n",
      "2  1.2.0  \n",
      "3    N/A  \n",
      "4    N/A  \n",
      "5  1.2.0  \n"
     ]
    }
   ],
   "source": [
    "def extract_variation_name(file_path):\n",
    "    return os.path.basename(os.path.dirname(os.path.dirname(file_path)))\n",
    "\n",
    "def find_keys_in_yaml(file_path, keys):\n",
    "    with open(file_path, 'r') as f:\n",
    "        config = yaml.safe_load(f)\n",
    "    \n",
    "    values = {}\n",
    "    \n",
    "    def get_nested_value(d, key_path):\n",
    "        keys = key_path.split('.')\n",
    "        for key in keys:\n",
    "            if isinstance(d, dict):\n",
    "                d = d.get(key, None)\n",
    "            else:\n",
    "                return None\n",
    "        return d\n",
    "\n",
    "    for key in keys:\n",
    "        values[key] = get_nested_value(config, key)\n",
    "    \n",
    "    return values\n",
    "\n",
    "def extract_module_versions(file_path):\n",
    "    modules = {}\n",
    "    with open(file_path, \"r\") as f:\n",
    "        lines = f.readlines()\n",
    "    for line in lines:\n",
    "        if line.startswith(\"# \") and \" version: \" in line:\n",
    "            line = line.strip()\n",
    "            module_info = line[2:]\n",
    "            module_name, version = module_info.split(\" version: \")\n",
    "            modules[module_name] = version\n",
    "    return modules\n",
    "\n",
    "root_directory = '/pscratch/sd/m/mherbold/tests/bookkeeper'  # Replace with the path to your directory\n",
    "\n",
    "data_rows = []\n",
    "\n",
    "# Specify info from config files to extract\n",
    "# note the key structure using \".\" to decend in level\n",
    "keys_to_extract = [\n",
    "    'data.healpix data',\n",
    "    'data.catalog',\n",
    "    'delta extraction.dla',\n",
    "    'delta extraction.bal',\n",
    "    'delta extraction.mask file'\n",
    "]\n",
    "\n",
    "all_modules = set()\n",
    "\n",
    "for root, dirs, files in os.walk(root_directory):\n",
    "    if os.path.basename(root) == \"configs\":\n",
    "        for file in files:\n",
    "            if file.endswith(\"config.yaml\"):\n",
    "                file_path = os.path.join(root, file)\n",
    "                modules = extract_module_versions(file_path)\n",
    "                all_modules.update(modules.keys())\n",
    "\n",
    "all_modules = sorted(all_modules)\n",
    "\n",
    "for root, dirs, files in os.walk(root_directory):\n",
    "    if os.path.basename(root) == \"configs\":\n",
    "        for file in files:\n",
    "            if file.endswith(\"config.yaml\"):\n",
    "                file_path = os.path.join(root, file)\n",
    "                variation_name = extract_variation_name(file_path)\n",
    "                values = find_keys_in_yaml(file_path, keys_to_extract)\n",
    "                modules = extract_module_versions(file_path)\n",
    "                \n",
    "                row = {'Variation Name': variation_name}\n",
    "                row.update(values)\n",
    "                \n",
    "                for module in all_modules:\n",
    "                    row[module] = modules.get(module, 'N/A')\n",
    "                \n",
    "                data_rows.append(row)\n",
    "\n",
    "df = pd.DataFrame(data_rows)\n",
    "df.to_csv('config_data_with_modules.csv', index=False)\n",
    "print(df)\n"
   ]
  },
  {
   "cell_type": "code",
   "execution_count": null,
   "id": "63c8646b-7c17-48cb-8d18-8c078b3ede40",
   "metadata": {},
   "outputs": [],
   "source": []
  }
 ],
 "metadata": {
  "kernelspec": {
   "display_name": "bookkeeper",
   "language": "python",
   "name": "bookkeeper"
  },
  "language_info": {
   "codemirror_mode": {
    "name": "ipython",
    "version": 3
   },
   "file_extension": ".py",
   "mimetype": "text/x-python",
   "name": "python",
   "nbconvert_exporter": "python",
   "pygments_lexer": "ipython3",
   "version": "3.10.14"
  }
 },
 "nbformat": 4,
 "nbformat_minor": 5
}
